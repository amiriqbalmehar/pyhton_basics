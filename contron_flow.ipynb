{
 "cells": [
  {
   "cell_type": "markdown",
   "metadata": {},
   "source": [
    "# Contron Flows There typyes and way of using them \n"
   ]
  },
  {
   "cell_type": "code",
   "execution_count": null,
   "metadata": {},
   "outputs": [],
   "source": [
    "# types of conditions in pythons\n",
    "# 1. if\n",
    "# 2. if else\n",
    "# 3. if elif else\n",
    "# 4. nested if\n",
    "# 5. pass statement\n",
    "# 6. assert statement\n",
    "# 7. break statement\n",
    "# 8. continue statement\n",
    "# 9. return statement\n"
   ]
  },
  {
   "cell_type": "code",
   "execution_count": 1,
   "metadata": {},
   "outputs": [
    {
     "name": "stdout",
     "output_type": "stream",
     "text": [
      "a is less than b\n"
     ]
    }
   ],
   "source": [
    "# if statement\n",
    "# syntax\n",
    "# if condition:\n",
    "#     statement\n",
    "#     statement\n",
    "#     statement\n",
    "\n",
    "# example\n",
    "a = 10\n",
    "b = 20\n",
    "if a < b:\n",
    "    print(\"a is less than b\")"
   ]
  },
  {
   "cell_type": "code",
   "execution_count": 2,
   "metadata": {},
   "outputs": [
    {
     "name": "stdout",
     "output_type": "stream",
     "text": [
      "a is less than b\n"
     ]
    }
   ],
   "source": [
    "# if else statement\n",
    "# syntax\n",
    "# if condition:\n",
    "#     statement\n",
    "#     statement\n",
    "\n",
    "# else:\n",
    "#     statement\n",
    "\n",
    "# example\n",
    "a = 10\n",
    "b = 20\n",
    "if a > b:\n",
    "    print(\"a is greater than b\")\n",
    "else:\n",
    "    print(\"a is less than b\")\n",
    "\n"
   ]
  },
  {
   "cell_type": "code",
   "execution_count": 3,
   "metadata": {},
   "outputs": [
    {
     "name": "stdout",
     "output_type": "stream",
     "text": [
      "a is less than b\n"
     ]
    }
   ],
   "source": [
    "# if elif else statement\n",
    "# syntax\n",
    "# if condition:\n",
    "#     statement\n",
    "#     statement\n",
    "\n",
    "# elif condition:\n",
    "#     statement\n",
    "\n",
    "# else:\n",
    "#     statement\n",
    "\n",
    "# example\n",
    "a = 10\n",
    "b = 20\n",
    "if a > b:\n",
    "    print(\"a is greater than b\")\n",
    "elif a == b:\n",
    "    print(\"a is equal to b\")\n",
    "else:\n",
    "    print(\"a is less than b\")\n",
    "\n"
   ]
  },
  {
   "cell_type": "code",
   "execution_count": 5,
   "metadata": {},
   "outputs": [
    {
     "name": "stdout",
     "output_type": "stream",
     "text": [
      "a is greater than b\n"
     ]
    }
   ],
   "source": [
    "# nested if statement\n",
    "# syntax\n",
    "# if condition:\n",
    "#     statement\n",
    "#     statement\n",
    "#     if condition:\n",
    "#         statement\n",
    "#         statement\n",
    "\n",
    "# example\n",
    "a = 100\n",
    "b = 20\n",
    "if a > b:\n",
    "    print(\"a is greater than b\")\n",
    "elif a == b:\n",
    "    print(\"a is equal to b\")\n",
    "else:\n",
    "    if a < b:\n",
    "        print(\"a is less than b\")\n",
    "    else:\n",
    "        print(\"a is not less than b\")\n"
   ]
  },
  {
   "cell_type": "code",
   "execution_count": 7,
   "metadata": {},
   "outputs": [
    {
     "name": "stdout",
     "output_type": "stream",
     "text": [
      "a is less than b\n"
     ]
    }
   ],
   "source": [
    "# pass statement\n",
    "\n",
    "# syntax\n",
    "\n",
    "# if condition:\n",
    "#     pass\n",
    "# else:\n",
    "#     statement\n",
    "\n",
    "# example\n",
    "a = 10\n",
    "b = 20\n",
    "if a > b:\n",
    "    pass\n",
    "else:\n",
    "    print(\"a is less than b\")\n"
   ]
  },
  {
   "cell_type": "code",
   "execution_count": 12,
   "metadata": {},
   "outputs": [
    {
     "name": "stdout",
     "output_type": "stream",
     "text": [
      "assert statement is working\n"
     ]
    }
   ],
   "source": [
    "# assert statement\n",
    "\n",
    "# assert statement is used to check the condition\n",
    "# syntax\n",
    "# assert condition\n",
    "# assert condition\n",
    "\n",
    "# example\n",
    "a = 10\n",
    "b = 20\n",
    "assert a < b\n",
    "print(\"assert statement is working\")\n",
    "\n"
   ]
  },
  {
   "cell_type": "code",
   "execution_count": null,
   "metadata": {},
   "outputs": [],
   "source": [
    "# break statement\n",
    "# break statement is used to break the loop \n",
    "# syntax\n",
    "# for i in range(10):\n",
    "#     if i == 5:\n",
    "#         break\n",
    "#     print(i)\n",
    "\n",
    "# example\n",
    "for i in range(10):\n",
    "    if i == 5:\n",
    "        break\n",
    "    print(i)\n",
    "\n"
   ]
  },
  {
   "cell_type": "code",
   "execution_count": null,
   "metadata": {},
   "outputs": [],
   "source": [
    "# continue statement\n",
    "# continue statement is used to skip the current iteration\n",
    "# syntax\n",
    "# for i in range(10):\n",
    "#     if i == 5:\n",
    "#         continue\n",
    "#     print(i)\n",
    "\n",
    "# example\n",
    "for i in range(-10, 10):\n",
    "    if i == 5 or i == 0:\n",
    "        continue\n",
    "    print(i)\n"
   ]
  },
  {
   "cell_type": "code",
   "execution_count": 24,
   "metadata": {},
   "outputs": [],
   "source": [
    "# return statement\n",
    "# return statement is used to return the value from the function\n",
    "# syntax\n",
    "# def function():\n",
    "#     return value\n",
    "\n",
    "# example\n",
    "def add(a, b):\n",
    "    return a + b\n"
   ]
  },
  {
   "cell_type": "code",
   "execution_count": 34,
   "metadata": {},
   "outputs": [
    {
     "name": "stdout",
     "output_type": "stream",
     "text": [
      "(10, 20, 30)\n",
      "(100, 200, 300)\n",
      "(1000, 2000, 3000)\n",
      "((10, 20, 30, 40, 50, 60, 70, 80, 90, 100), 550)\n",
      "((100, 200, 300, 400, 500, 600, 700, 800, 900, 1000), 5500)\n",
      "((1000, 2000, 3000, 4000, 5000, 6000, 7000, 8000, 9000, 10000), 55000)\n"
     ]
    }
   ],
   "source": [
    "# function call\n",
    "# print(add(10, 20))\n",
    "# print(add(100, 200))\n",
    "# print(add(1000, 2000))\n",
    "\n",
    "# output\n",
    "# 30\n",
    "# 300\n",
    "# 3000\n",
    "\n",
    "# if you want to return multiple values from the function then you can return the tuple\n",
    "# syntax\n",
    "# def function():\n",
    "#     return value1, value2, value3\n",
    "\n",
    "# example\n",
    "def add(a, b):\n",
    "    return a, b, a + b\n",
    "\n",
    "# function call\n",
    "print(add(10, 20,))\n",
    "print(add(100, 200))\n",
    "print(add(1000, 2000))\n",
    "\n",
    "\n",
    "# if you want to return multiple values from the function then you can return the tuple\n",
    "def add(*args):\n",
    "    return args, sum(args)\n",
    "\n",
    "print(add(10, 20, 30, 40, 50, 60, 70, 80, 90, 100))\n",
    "print(add(100, 200, 300, 400, 500, 600, 700, 800, 900, 1000))\n",
    "print(add(1000, 2000, 3000, 4000, 5000, 6000, 7000, 8000, 9000, 10000))\n",
    "\n",
    "# output\n",
    "# (10, 20, 10)\n",
    "\n",
    "\n",
    "\n",
    "\n",
    "\n"
   ]
  },
  {
   "cell_type": "code",
   "execution_count": 35,
   "metadata": {},
   "outputs": [
    {
     "name": "stdout",
     "output_type": "stream",
     "text": [
      "({'a': 10, 'b': 20, 'c': 30, 'd': 40, 'e': 50, 'f': 60, 'g': 70, 'h': 80, 'i': 90, 'j': 100}, 550)\n"
     ]
    }
   ],
   "source": [
    "# if you want to return multiple values from the function then you can return the tuple\n",
    "def add(**kwargs):\n",
    "    return kwargs, sum(kwargs.values())\n",
    "\n",
    "print(add(a=10, b=20, c=30, d=40, e=50, f=60, g=70, h=80, i=90, j=100))\n"
   ]
  }
 ],
 "metadata": {
  "kernelspec": {
   "display_name": "Python 3",
   "language": "python",
   "name": "python3"
  },
  "language_info": {
   "codemirror_mode": {
    "name": "ipython",
    "version": 3
   },
   "file_extension": ".py",
   "mimetype": "text/x-python",
   "name": "python",
   "nbconvert_exporter": "python",
   "pygments_lexer": "ipython3",
   "version": "3.12.8"
  }
 },
 "nbformat": 4,
 "nbformat_minor": 2
}
