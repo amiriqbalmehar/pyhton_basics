{
 "cells": [
  {
   "cell_type": "markdown",
   "metadata": {},
   "source": [
    "# Variable\n"
   ]
  },
  {
   "cell_type": "code",
   "execution_count": null,
   "metadata": {},
   "outputs": [
    {
     "name": "stdout",
     "output_type": "stream",
     "text": [
      "4\n"
     ]
    }
   ],
   "source": [
    "a=1\n",
    "b= 3\n",
    "c= a+b\n",
    "print(c)"
   ]
  },
  {
   "cell_type": "markdown",
   "metadata": {},
   "source": [
    "# Data Types in Python"
   ]
  },
  {
   "cell_type": "code",
   "execution_count": 4,
   "metadata": {},
   "outputs": [
    {
     "name": "stdout",
     "output_type": "stream",
     "text": [
      "1 amir True 0.2\n"
     ]
    },
    {
     "data": {
      "text/plain": [
       "int"
      ]
     },
     "execution_count": 4,
     "metadata": {},
     "output_type": "execute_result"
    }
   ],
   "source": [
    "# Int\n",
    "a=1\n",
    "# strinrg \n",
    "b=\"amir\"\n",
    "# Bolean\n",
    "c= True\n",
    "#float \n",
    "e= 0.2\n",
    "print(a,b,c,e)\n",
    "type(a)\n",
    "\n"
   ]
  },
  {
   "cell_type": "code",
   "execution_count": 5,
   "metadata": {},
   "outputs": [
    {
     "data": {
      "text/plain": [
       "str"
      ]
     },
     "execution_count": 5,
     "metadata": {},
     "output_type": "execute_result"
    }
   ],
   "source": [
    "type(b)"
   ]
  },
  {
   "cell_type": "code",
   "execution_count": 6,
   "metadata": {},
   "outputs": [
    {
     "name": "stdout",
     "output_type": "stream",
     "text": [
      "['a', 'b', 'c']\n"
     ]
    }
   ],
   "source": [
    "list = [\"a\",\"b\",\"c\"]\n",
    "print(list)\n"
   ]
  },
  {
   "cell_type": "code",
   "execution_count": 7,
   "metadata": {},
   "outputs": [
    {
     "name": "stdout",
     "output_type": "stream",
     "text": [
      "{'name': 4, 'amir': 4, 'age': 25}\n"
     ]
    }
   ],
   "source": [
    "# dictionary\n",
    "\n",
    "dict = {\"name\": 4,\"amir\":4 ,\"age\": 25}\n",
    "print(dict)\n"
   ]
  },
  {
   "cell_type": "code",
   "execution_count": 8,
   "metadata": {},
   "outputs": [
    {
     "name": "stdout",
     "output_type": "stream",
     "text": [
      "['a', 'b', 'c']\n",
      "[1, 2, 3]\n",
      "[0.1, 0.2, 0.3]\n",
      "[[1, 2, 3], [4, 5, 6], [7, 8, 9]]\n",
      "[{'name': 'amir', 'age': 25}, {'name': 'ali', 'age': 30}]\n",
      "{'name': ['amir', 'ali'], 'age': [25, 30]}\n",
      "{'name': {'amir': 25, 'ali': 30}}\n",
      "{'name': [{'amir': 25}, {'ali': 30}]}\n"
     ]
    }
   ],
   "source": [
    "#list\n",
    "list = [\"a\",\"b\",\"c\"]\n",
    "print(list)\n",
    "# list of int\n",
    "list = [1,2,3]\n",
    "print(list)\n",
    "# list of float\n",
    "list = [0.1,0.2,0.3]\n",
    "print(list)\n",
    "\n",
    "# list of list\n",
    "list = [[1,2,3],[4,5,6],[7,8,9]]\n",
    "print(list)\n",
    "\n",
    "# list of dictionary\n",
    "list = [{\"name\": \"amir\",\"age\": 25},{\"name\": \"ali\",\"age\": 30}]\n",
    "print(list)\n",
    "\n",
    "# dictionary of list\n",
    "dict = {\"name\": [\"amir\",\"ali\"],\"age\": [25,30]}\n",
    "print(dict)\n",
    "\n",
    "# dictionary of dictionary\n",
    "dict = {\"name\": {\"amir\": 25,\"ali\": 30}}\n",
    "print(dict)\n",
    "\n",
    "# dictionary of list of dictionary\n",
    "dict = {\"name\": [{\"amir\": 25},{\"ali\": 30}]}\n",
    "print(dict)\n"
   ]
  },
  {
   "cell_type": "code",
   "execution_count": 9,
   "metadata": {},
   "outputs": [
    {
     "name": "stdout",
     "output_type": "stream",
     "text": [
      "b is greater\n"
     ]
    }
   ],
   "source": [
    "# if condintion for checking which number is greater\n",
    "a = 10\n",
    "b = 20\n",
    "if a>b:\n",
    "    print(\"a is greater\")\n",
    "else:\n",
    "    print(\"b is greater\")\n",
    "    "
   ]
  },
  {
   "cell_type": "code",
   "execution_count": null,
   "metadata": {},
   "outputs": [],
   "source": [
    "\"\"\" a prgram that ask person 1 Name  and age then person 2 Name and age \n",
    "then compare the age and print the older person name \"\"\"\n",
    "\n",
    "name1 = input(\"Enter the name of person 1: \")\n",
    "age1 = int(input(\"Enter the age of person 1: \"))\n",
    "name2 = input(\"Enter the name of person 2: \")\n",
    "age2 = int(input(\"Enter the age of person 2: \"))\n",
    "\n",
    "if age1 > age2:\n",
    "    print(f\"{name1} is older.\")\n",
    "elif age1 < age2:\n",
    "    print(f\"{name2} is older.\")\n",
    "else:\n",
    "    print(f\"{name1} and {name2} are of the same age.\")\n",
    "\n"
   ]
  },
  {
   "cell_type": "code",
   "execution_count": 11,
   "metadata": {},
   "outputs": [
    {
     "name": "stdout",
     "output_type": "stream",
     "text": [
      "Your BMI is 2.4234693877551026\n",
      "Amir, you are under weight.\n"
     ]
    }
   ],
   "source": [
    "# Bmi Calculator\n",
    "\n",
    "name = input(\"Enter your name: \")\n",
    "weight = float(input(\"Enter your weight in kg: \"))\n",
    "height = float(input(\"Enter your height in meters: \"))\n",
    "bmi = weight / (height ** 2)\n",
    "print(f\"Your BMI is {bmi}\")\n",
    "if bmi < 18.5:\n",
    "    print(f\"{name}, you are under weight.\")\n",
    "elif bmi >= 18.5 and bmi < 25:\n",
    "    print(f\"{name}, you are normal weight.\")\n",
    "elif bmi >= 25 and bmi < 30:\n",
    "    print(f\"{name}, you are over weight.\")\n",
    "else:\n",
    "    print(f\"{name}, you are obese.\")\n",
    "\n"
   ]
  },
  {
   "cell_type": "code",
   "execution_count": 12,
   "metadata": {},
   "outputs": [
    {
     "name": "stdout",
     "output_type": "stream",
     "text": [
      "1\n"
     ]
    }
   ],
   "source": [
    "def count_characters(string, char):\n",
    "    return string.count(char)\n",
    "print(count_characters(\"hello world\",\"d\"))  "
   ]
  },
  {
   "cell_type": "code",
   "execution_count": 26,
   "metadata": {},
   "outputs": [
    {
     "name": "stdout",
     "output_type": "stream",
     "text": [
      "1\n"
     ]
    }
   ],
   "source": [
    "def count_characters(string, char):\n",
    "    return string.count(char)\n",
    "string = input(\"Enter a string: \")\n",
    "char = input(\"Enter a character to count: \")\n",
    "\n",
    "print(count_characters( string, char))"
   ]
  }
 ],
 "metadata": {
  "kernelspec": {
   "display_name": "EDA",
   "language": "python",
   "name": "python3"
  },
  "language_info": {
   "codemirror_mode": {
    "name": "ipython",
    "version": 3
   },
   "file_extension": ".py",
   "mimetype": "text/x-python",
   "name": "python",
   "nbconvert_exporter": "python",
   "pygments_lexer": "ipython3",
   "version": "3.9.23"
  }
 },
 "nbformat": 4,
 "nbformat_minor": 2
}
