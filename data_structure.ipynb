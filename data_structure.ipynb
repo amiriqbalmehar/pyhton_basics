{
 "cells": [
  {
   "cell_type": "code",
   "execution_count": 2,
   "metadata": {},
   "outputs": [
    {
     "name": "stdout",
     "output_type": "stream",
     "text": [
      "['rice', 'beans', 'bread', 'pasta', 'pizza', 'apple', 'banana']\n",
      "['rice', 'beans', 'bread', 'pasta', 'pizza', 'apple', 'banana', 'meat']\n"
     ]
    }
   ],
   "source": [
    "# list\n",
    "food = ['rice', 'beans','bread', 'pasta','pizza','apple','banana']\n",
    "print(food)\n",
    "food.append('meat')\n",
    "print(food)"
   ]
  },
  {
   "cell_type": "code",
   "execution_count": 4,
   "metadata": {},
   "outputs": [
    {
     "name": "stdout",
     "output_type": "stream",
     "text": [
      "meat\n"
     ]
    }
   ],
   "source": [
    "# get items from list by index\n",
    "print(food[-1])"
   ]
  },
  {
   "cell_type": "code",
   "execution_count": 5,
   "metadata": {},
   "outputs": [
    {
     "name": "stdout",
     "output_type": "stream",
     "text": [
      "['rice', 'beans', 'bread', 'pasta', 'pizza', 'apple', 'banana', 'meat', 'milk', 'juice', 'water']\n"
     ]
    }
   ],
   "source": [
    "# append list to another list\n",
    "food2 = ['milk','juice','water']\n",
    "food.extend(food2)\n",
    "print(food)"
   ]
  },
  {
   "cell_type": "code",
   "execution_count": null,
   "metadata": {},
   "outputs": [],
   "source": [
    "# # difference between append and extend\n",
    "# food.append(food2)\n",
    "# print(food)\n",
    "\n",
    "# insert item at specific index\n",
    "# food.insert(0, 'butter')\n",
    "# print(food)\n",
    "\n",
    "# remove item from list\n",
    "# food.remove('butter')\n",
    "# print(food)\n",
    "\n",
    "# # remove item by index\n",
    "# food.pop(0)\n",
    "# print(food)\n",
    "\n",
    "# # remove last item from list\n",
    "# food.pop()\n",
    "# print(food)\n",
    "\n",
    "# # remove all items from list\n",
    "# food.clear()\n",
    "# print(food)\n",
    "\n",
    "# # delete list\n",
    "# del food\n",
    "# print(food) # this will throw an error\n",
    "\n",
    "# append in food lis₮\n",
    "food = ['rice', 'beans','bread', 'pasta','pizza','apple','banana']\n",
    "food.append('meat')\n",
    "print(food)\n"
   ]
  },
  {
   "cell_type": "code",
   "execution_count": 17,
   "metadata": {},
   "outputs": [
    {
     "name": "stdout",
     "output_type": "stream",
     "text": [
      "['apple', 'banana', 'beans', 'bread', 'meat', 'pasta', 'pizza', 'rice']\n",
      "['rice', 'pizza', 'pasta', 'meat', 'bread', 'beans', 'banana', 'apple']\n"
     ]
    }
   ],
   "source": [
    "# sort list\n",
    "food.sort()\n",
    "print(food)\n",
    "\n",
    "# reverse list\n",
    "food.reverse()\n",
    "print(food)\n",
    "\n"
   ]
  },
  {
   "cell_type": "markdown",
   "metadata": {},
   "source": [
    "# Dictionary\n",
    "## Deffination \n"
   ]
  },
  {
   "cell_type": "code",
   "execution_count": null,
   "metadata": {},
   "outputs": [],
   "source": [
    "car = { 'make': 'Toyota', 'model': 'Corolla', 'year': 2015, 'color': 'red'}\n",
    "print(car)\n"
   ]
  }
 ],
 "metadata": {
  "kernelspec": {
   "display_name": "Python 3",
   "language": "python",
   "name": "python3"
  },
  "language_info": {
   "codemirror_mode": {
    "name": "ipython",
    "version": 3
   },
   "file_extension": ".py",
   "mimetype": "text/x-python",
   "name": "python",
   "nbconvert_exporter": "python",
   "pygments_lexer": "ipython3",
   "version": "3.12.8"
  }
 },
 "nbformat": 4,
 "nbformat_minor": 2
}
