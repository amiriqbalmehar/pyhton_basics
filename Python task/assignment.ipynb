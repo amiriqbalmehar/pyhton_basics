{
 "cells": [
  {
   "cell_type": "markdown",
   "id": "7e0a6a28",
   "metadata": {},
   "source": [
    "# Part 1: Conditional Statements (20 Questions)"
   ]
  },
  {
   "cell_type": "markdown",
   "id": "5c2f2026",
   "metadata": {},
   "source": [
    "# basic Arithmatics Operators"
   ]
  },
  {
   "cell_type": "code",
   "execution_count": null,
   "id": "9a3f4ac9",
   "metadata": {},
   "outputs": [
    {
     "name": "stdout",
     "output_type": "stream",
     "text": [
      "addintion: 30\n",
      "Substraction:  10\n",
      "Multiplication:  200\n",
      "Division:  2.0\n",
      "Floor Division:  2\n",
      "Modulus:  0\n"
     ]
    }
   ],
   "source": [
    "a = 20\n",
    "b = 10\n",
    "\n",
    "print(\"addintion:\",a+b )  # addintion \n",
    "print(\"Substraction: \",a-b)      # substract\n",
    "print(\"Multiplication: \",a*b)      # multiplication\n",
    "print(\"Division: \",a/b)      # Division\n",
    "print(\"Floor Division: \",a//b)     # Floor Division\n",
    "print(\"Modulus: \",a%b)      # Modulus\n"
   ]
  },
  {
   "cell_type": "markdown",
   "id": "53f6d66e",
   "metadata": {},
   "source": [
    "## 1. Write a program that checks if a given number is positive, negative, or zero."
   ]
  },
  {
   "cell_type": "code",
   "execution_count": 3,
   "id": "0ffeea30",
   "metadata": {},
   "outputs": [
    {
     "name": "stdout",
     "output_type": "stream",
     "text": [
      "number is postive\n"
     ]
    }
   ],
   "source": [
    "num = int(input(\"Enter a number: \"))\n",
    "if num < 0:\n",
    "    print(\"Number is negative\")\n",
    "elif num == 0:\n",
    "    print(\"number is zero\")\n",
    "else:\n",
    "    print(\"number is postive\")\n",
    "    "
   ]
  },
  {
   "cell_type": "markdown",
   "id": "72a715c8",
   "metadata": {},
   "source": [
    "## 2. Take a user’s age as input and display whether they are a minor, adult, or senior citizen."
   ]
  },
  {
   "cell_type": "code",
   "execution_count": null,
   "id": "83b8f80c",
   "metadata": {},
   "outputs": [
    {
     "name": "stdout",
     "output_type": "stream",
     "text": [
      "You are a teenager\n"
     ]
    }
   ],
   "source": [
    "age = int(input(\"enter your age: \"))\n",
    "\n",
    "if age <= 13:\n",
    "    print(\"You are a child\")\n",
    "elif age >= 20 and age <= 59:\n",
    "    print(\"You are a teenager\")\n",
    "elif age >= 59:\n",
    "     print(\"You are a senior citizen\")\n"
   ]
  },
  {
   "cell_type": "markdown",
   "id": "08da2d60",
   "metadata": {},
   "source": [
    "## 3. Write a program that checks if a given year is a leap year."
   ]
  },
  {
   "cell_type": "code",
   "execution_count": null,
   "id": "53215650",
   "metadata": {},
   "outputs": [
    {
     "name": "stdout",
     "output_type": "stream",
     "text": [
      "Year is not not leap\n"
     ]
    }
   ],
   "source": [
    "year = int(input(\"Enter a year: \"))\n",
    "\n",
    "if year % 2 == 0:\n",
    "    print(\"Year is not not leap\")\n",
    "else:\n",
    "    print(\"Year is Leap\")"
   ]
  },
  {
   "cell_type": "markdown",
   "id": "8d33c170",
   "metadata": {},
   "source": [
    "## 4. Take an integer and check if it’s even or odd."
   ]
  },
  {
   "cell_type": "code",
   "execution_count": null,
   "id": "ce665619",
   "metadata": {},
   "outputs": [
    {
     "name": "stdout",
     "output_type": "stream",
     "text": [
      "Number is even\n"
     ]
    }
   ],
   "source": [
    "num = int(input(\"Enter a number: \"))\n",
    "if num % 2 == 0:\n",
    "    print(\"Number is even\")\n",
    "else:\n",
    "    print(\"Number is odd\")\n",
    "\n",
    "\n",
    "   "
   ]
  },
  {
   "cell_type": "code",
   "execution_count": null,
   "id": "56a763de",
   "metadata": {},
   "outputs": [
    {
     "name": "stdout",
     "output_type": "stream",
     "text": [
      "Sum is:  33\n"
     ]
    }
   ],
   "source": [
    "#Take two numbers and an operator (+, -, *, /) as input and perform the corresponding operation.\n",
    "\n",
    "num1 = input(\"Enter 1st number: \")\n",
    "num2 = input(\"Enter 2nd Number: \")\n",
    "operator = input( \" Enter +,-*, or% \")\n",
    "\n",
    "if operator == \"+\":\n",
    "    print(\"Sum is: \", num1+ num2)\n",
    "elif operator == \"-\":\n",
    "    print(\"Difference is: \", num1 - num2)\n",
    "elif operator == \"*\":\n",
    "    print(\"Product is: \", num1 * num2)\n",
    "elif operator == \"/\":\n",
    "    if num2 != 0:\n",
    "        print(\"Quotient is: \", num1 / num2)\n",
    "    else:\n",
    "        print(\"Cannot divide by zero\")\n",
    "elif operator == \"%\":\n",
    "    if num2 != 0:\n",
    "        print(\"Remainder is: \", num1 % num2)\n",
    "    else:\n",
    "        print(\"Cannot divide by zero\")\n",
    "else:\n",
    "    print(\"Invalid operator. Please use +, -, *, /, or %.\")"
   ]
  },
  {
   "cell_type": "code",
   "execution_count": null,
   "id": "fc8fad5a",
   "metadata": {},
   "outputs": [
    {
     "name": "stdout",
     "output_type": "stream",
     "text": [
      "The string is in lowercase.\n"
     ]
    }
   ],
   "source": [
    "#Check if a string input is uppercase, lowercase, or a mix.\n",
    "string_input = input(\"Enter a string: \")\n",
    "if string_input.isupper():\n",
    "    print(\"The string is in uppercase.\")   \n",
    "elif string_input.islower():\n",
    "    print(\"The string is in lowercase.\")\n",
    "elif string_input.isalpha() and not string_input.isupper() and not string_input.islower():\n",
    "    print(\"The string is a mix of uppercase and lowercase letters.\")\n",
    "else:\n",
    "    print(\"The string contains non-alphabetic characters or is empty.\") \n"
   ]
  },
  {
   "cell_type": "code",
   "execution_count": null,
   "id": "c5b022a9",
   "metadata": {},
   "outputs": [
    {
     "name": "stdout",
     "output_type": "stream",
     "text": [
      "'HELLO WORLD' is: uppercase\n",
      "'hello world' is: lowercase\n",
      "'Hello World' is: mixed\n",
      "'123!' is: none\n",
      "'' (empty string) is: none\n",
      "'PYTHON' is: uppercase\n"
     ]
    }
   ],
   "source": [
    "def check_string_case(input_str: str) -> str:\n",
    "    \"\"\"\n",
    "    Checks if a string is uppercase, lowercase, mixed case, or contains no letters.\n",
    "\n",
    "    Args:\n",
    "        input_str: The string to check.\n",
    "\n",
    "    Returns:\n",
    "        A string: \"uppercase\", \"lowercase\", \"mixed\", or \"none\".\n",
    "    \"\"\"\n",
    "    if not isinstance(input_str, str):\n",
    "        raise TypeError(\"Input must be a string.\")\n",
    "\n",
    "    # Check if there are any alphabetic characters in the string.\n",
    "    # This is more robust than just checking for emptiness.\n",
    "    if not any(c.isalpha() for c in input_str):\n",
    "        return \"none\"\n",
    "\n",
    "    is_all_upper = input_str == input_str.upper()\n",
    "    is_all_lower = input_str == input_str.lower()\n",
    "\n",
    "    if is_all_upper:\n",
    "        return \"uppercase\"\n",
    "    elif is_all_lower:\n",
    "        return \"lowercase\"\n",
    "    else:\n",
    "        return \"mixed\"\n",
    "\n",
    "# --- Examples ---\n",
    "print(f\"'HELLO WORLD' is: {check_string_case('HELLO WORLD')}\")\n",
    "print(f\"'hello world' is: {check_string_case('hello world')}\")\n",
    "print(f\"'Hello World' is: {check_string_case('Hello World')}\")\n",
    "print(f\"'123!' is: {check_string_case('123!')}\")\n",
    "print(f\"'' (empty string) is: {check_string_case('')}\")\n",
    "print(f\"'PYTHON' is: {check_string_case('PYTHON')}\")\n"
   ]
  },
  {
   "cell_type": "markdown",
   "id": "fa35b818",
   "metadata": {},
   "source": [
    "## Write a function named capital_indexes. The function takes a single parameter, which is a string. \n",
    "Your function should return a list of all the indexes in the string that have capital letters.\n",
    "For example, calling capital_indexes(\"HeLlO\") should return the list [0, 2, 4]."
   ]
  },
  {
   "cell_type": "code",
   "execution_count": null,
   "id": "d06c7f55",
   "metadata": {},
   "outputs": [],
   "source": [
    "\n",
    "def capital_indexes(s):\n",
    "    return [i for i, c in enumerate(s) if c.isupper()]\n",
    "# Example usage:\n",
    "print(capital_indexes(\"HeLLlO\"))  # Output: [0, 2, 4]\n"
   ]
  },
  {
   "cell_type": "code",
   "execution_count": null,
   "id": "cc63dd92",
   "metadata": {},
   "outputs": [],
   "source": [
    "'''Write a function named only_ints that takes two parameters. Your function should return True if both parameters are integers, and False otherwise.\n",
    "\n",
    "For example, calling only_ints(1, 2) should return True, while calling only_ints(\"a\", 1) should return False.'''\n",
    "\n",
    "def only_ints(a, b):\n",
    "    return type(a) == int and type(b) == int\n",
    "\n",
    "print(only_ints(1, 2))       # Output: True\n",
    "print(only_ints(\"a\", 1))     # Output: False\n",
    "print(only_ints(1.5, 2))     # Output: False\n",
    "print(only_ints(3, 4))       # Output: True\n"
   ]
  },
  {
   "cell_type": "code",
   "execution_count": null,
   "id": "ec0b9716",
   "metadata": {},
   "outputs": [],
   "source": [
    "print(\"Twinkle, twinkle, little star,\")\n",
    "print(\"\\tHow I wonder what you are!\")\n",
    "print(\"\\t\\tUp above the world so high,\")\n",
    "print(\"\\t\\t\\t\\tLike a diamond in the sky.\")\n",
    "print(\"Twinkle, twinkle, little star,\")\n",
    "print(\"\\tHow I wonder what you are\")\n"
   ]
  },
  {
   "cell_type": "code",
   "execution_count": null,
   "id": "7958e4e3",
   "metadata": {},
   "outputs": [],
   "source": [
    "'''Define a function, random_number, that takes no parameters. The function must generate a random integer between 1 and 100, both inclusive, and return it.\n",
    "\n",
    "Calling the function multiple times should (usually) return different numbers.\n",
    "\n",
    "For example, calling random_number() some times might first return 42, then 63, then 1.'''\n",
    "\n",
    "import random\n",
    "\n",
    "def random_number():\n",
    "    return random.randint(1, 100)\n",
    "\n",
    "# Example usage:\n",
    "print(random_number())  # This will print a random number between 1 and 100\n",
    "print(random_number())  # Calling it again will likely print a different random number\n"
   ]
  },
  {
   "cell_type": "code",
   "execution_count": null,
   "id": "f5734b11",
   "metadata": {},
   "outputs": [],
   "source": [
    "'''Write a function named mid that takes a string as its parameter. \n",
    "    Your function should extract and return the middle letter. \n",
    "    If there is no middle letter, your function should return the empty string.\n",
    "\n",
    "For example, mid(\"abc\") should return \"b\" and mid(\"aaaa\") should return \"\".'''\n",
    "\n",
    "def mid(s):\n",
    "    length = len(s)\n",
    "    if length % 2 == 0:\n",
    "        return \"\"\n",
    "    else:\n",
    "        middle_index = length // 2\n",
    "        return s[middle_index]\n",
    "\n",
    "# Example usage:\n",
    "print(mid(\"abcde\"))   # Output: \"b\"\n",
    "print(mid(\"aaaa\"))  # Output: \"\"\n",
    "\n",
    "s = str(input(\"Enter a Name: \")) #get value from User in Function\n",
    "print(mid(s))\n"
   ]
  }
 ],
 "metadata": {
  "kernelspec": {
   "display_name": "EDA",
   "language": "python",
   "name": "python3"
  },
  "language_info": {
   "codemirror_mode": {
    "name": "ipython",
    "version": 3
   },
   "file_extension": ".py",
   "mimetype": "text/x-python",
   "name": "python",
   "nbconvert_exporter": "python",
   "pygments_lexer": "ipython3",
   "version": "3.9.23"
  }
 },
 "nbformat": 4,
 "nbformat_minor": 5
}
